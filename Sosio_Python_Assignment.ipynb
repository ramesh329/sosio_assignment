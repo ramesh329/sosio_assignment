{
 "cells": [
  {
   "cell_type": "code",
   "execution_count": 1,
   "metadata": {},
   "outputs": [
    {
     "name": "stdout",
     "output_type": "stream",
     "text": [
      "the angle MBC is:45\n"
     ]
    }
   ],
   "source": [
    "#find angle MBC \n",
    "from math import atan\n",
    "from math import degrees\n",
    "\n",
    "def find_angle(AB,BC):\n",
    "    if AB>0 and AB<=100: #constraint\n",
    "        AB = int(AB)\n",
    "        if BC>0 and BC<=100: #constraint\n",
    "            BC = int(BC)\n",
    "        angle = round(degrees(atan(int(AB)/int(BC)))) #taking tan inverse of angle C since midpoint of hypotenues \n",
    "                                                       #gives an isoceles traingle angle MBC = angle ACB\n",
    "        print(\"the angle MBC is:{}\".format(angle))\n",
    "    \n",
    "#print the angle\n",
    "find_angle(10,10)                 "
   ]
  },
  {
   "cell_type": "code",
   "execution_count": 2,
   "metadata": {},
   "outputs": [
    {
     "name": "stdout",
     "output_type": "stream",
     "text": [
      "1\n",
      "22\n",
      "333\n",
      "4444\n",
      "55555\n"
     ]
    }
   ],
   "source": [
    "#printing nubers triangle of height N-1\n",
    "def print_triange(a):\n",
    "    for i in range(1,a):\n",
    "        print((10**(i)//9)*i) #taking the quotient \n",
    "print_triange(6)        "
   ]
  },
  {
   "cell_type": "code",
   "execution_count": 3,
   "metadata": {},
   "outputs": [
    {
     "name": "stdout",
     "output_type": "stream",
     "text": [
      "Stuart 12\n"
     ]
    }
   ],
   "source": [
    "def minion_challenge(w):\n",
    "    vow = 'aeiou'.upper() #taking the upper case vowels\n",
    "    word_len = len(w) #length of word passed\n",
    "    kevin = sum(word_len-i for i in range(word_len) if w[i] in vow)\n",
    "    stuart = word_len*(word_len + 1)/2 - kevin\n",
    "\n",
    "    if kevin == stuart:\n",
    "            print ('Draw')\n",
    "    elif kevin > stuart:\n",
    "        print ('Kevin %d' % kevin)\n",
    "    else:\n",
    "        print ('Stuart %d' % stuart)\n",
    " \n",
    "minion_challenge(\"BANANA\")"
   ]
  },
  {
   "cell_type": "code",
   "execution_count": 4,
   "metadata": {},
   "outputs": [
    {
     "data": {
      "text/plain": [
       "36"
      ]
     },
     "execution_count": 4,
     "metadata": {},
     "output_type": "execute_result"
    }
   ],
   "source": [
    "def is_vowel(letter):\n",
    "    return letter in ['a', 'e', 'i', 'o', 'u', 'y']\n",
    "\n",
    "def score_words(words):\n",
    "    score = 0\n",
    "    for word in words:\n",
    "       \n",
    "        num_vowels = 0\n",
    "        for letter in word:\n",
    "            if is_vowel(letter):\n",
    "                num_vowels += 1 #Add numeber of vowels\n",
    "        if num_vowels % 2 == 0: #if the number of vowels is even add 2 to the score\n",
    "            score += 2\n",
    "        elif num_vowels % 2 == 1:\n",
    "            score +=1 #if it is not even\n",
    "        elif num_vowels ==0:\n",
    "            score +=0\n",
    "        else:\n",
    "            score = score+0\n",
    "        \n",
    "    return score\n",
    "\n",
    "score_words('data science is awesome')"
   ]
  },
  {
   "cell_type": "code",
   "execution_count": 4,
   "metadata": {},
   "outputs": [
    {
     "name": "stdout",
     "output_type": "stream",
     "text": [
      "5\n",
      "abc\n",
      "bcdeg\n",
      "abc\n",
      "bcdeg\n",
      "abf\n",
      "3\n",
      "2 2 1\n"
     ]
    }
   ],
   "source": [
    "from collections import OrderedDict\n",
    "#define empty ordered dictionary, which counts occurences\n",
    "dict = OrderedDict()\n",
    "\n",
    "for i in range(int(input())):\n",
    "    #If input not in the dictionary, then add it\n",
    "    #else increment the counter\n",
    "    key = input()\n",
    "    if not key in dict.keys():\n",
    "        dict.update({key : 1}) #count a as one if it is not repeated\n",
    "        continue\n",
    "    dict[key] += 1 #add one if it repeates\n",
    "\n",
    "print(len(dict.keys()))\n",
    "print(*dict.values())"
   ]
  },
  {
   "cell_type": "code",
   "execution_count": 30,
   "metadata": {},
   "outputs": [
    {
     "name": "stdout",
     "output_type": "stream",
     "text": [
      "166677944\n",
      "[(1, 1), (3, 6), (2, 7), (1, 9), (2, 4)]\n"
     ]
    }
   ],
   "source": [
    "from itertools import groupby\n",
    "print([(len(list(c)), int(k)) for k, c in groupby(input())]) #grouping by each number and couting its frequency"
   ]
  },
  {
   "cell_type": "code",
   "execution_count": 28,
   "metadata": {},
   "outputs": [
    {
     "name": "stdout",
     "output_type": "stream",
     "text": [
      "6\n",
      "1\n",
      "121\n",
      "12321\n",
      "1234321\n",
      "123454321\n",
      "12345654321\n"
     ]
    }
   ],
   "source": [
    "#pow(x,y) returns x to the power of y \n",
    "for i in range(1,int(input())+1):\n",
    "        print(pow(((pow(10,i)-1)//9),2))"
   ]
  },
  {
   "cell_type": "code",
   "execution_count": 31,
   "metadata": {},
   "outputs": [
    {
     "name": "stdout",
     "output_type": "stream",
     "text": [
      "ndskgnsdGDKNGDK13043U6904\n",
      "ddgknnssDDGGKKNU133900446\n"
     ]
    }
   ],
   "source": [
    "print(*(sorted(input(), key=lambda x: (x.isdigit(),\n",
    "                                       x.isdigit() and int(x)%2==0, x.isupper(), x.islower(), x))), sep='')"
   ]
  },
  {
   "cell_type": "code",
   "execution_count": 5,
   "metadata": {},
   "outputs": [
    {
     "name": "stdout",
     "output_type": "stream",
     "text": [
      "3\n",
      "456789451234\n",
      "Invalid\n",
      "567843256867\n",
      "Invalid\n",
      "4123456789123456\n",
      "Valid\n"
     ]
    }
   ],
   "source": [
    "import re\n",
    "pattern = re.compile(\n",
    "    r\"^\"\n",
    "    r\"(?!.*(\\d)(-?\\1){3})\"\n",
    "    r\"[456]\"\n",
    "    r\"\\d{3}\"\n",
    "    r\"(?:-?\\d{4}){3}\"\n",
    "    r\"$\")\n",
    "for _ in range(int(input().strip())):\n",
    "    print(\"Valid\" if pattern.search(input().strip()) else \"Invalid\")"
   ]
  },
  {
   "cell_type": "code",
   "execution_count": 12,
   "metadata": {},
   "outputs": [
    {
     "name": "stdout",
     "output_type": "stream",
     "text": [
      "3 2\n",
      "1 1 1\n",
      "1 1\n",
      "2 3\n",
      "3\n"
     ]
    }
   ],
   "source": [
    "n,m=map(int,input().split())\n",
    "l=input().split(' ')\n",
    "A=set(input().split(' '))\n",
    "B=set(input().split(' '))\n",
    "happiness=0\n",
    "for i in l:\n",
    "    if i in A:\n",
    "        happiness+=1\n",
    "    if i in B:\n",
    "        happiness-=1\n",
    "        \n",
    "print(happiness)"
   ]
  },
  {
   "cell_type": "code",
   "execution_count": null,
   "metadata": {},
   "outputs": [],
   "source": []
  }
 ],
 "metadata": {
  "kernelspec": {
   "display_name": "Python 3",
   "language": "python",
   "name": "python3"
  },
  "language_info": {
   "codemirror_mode": {
    "name": "ipython",
    "version": 3
   },
   "file_extension": ".py",
   "mimetype": "text/x-python",
   "name": "python",
   "nbconvert_exporter": "python",
   "pygments_lexer": "ipython3",
   "version": "3.6.5"
  }
 },
 "nbformat": 4,
 "nbformat_minor": 2
}
