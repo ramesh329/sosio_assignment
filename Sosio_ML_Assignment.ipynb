{
 "cells": [
  {
   "cell_type": "markdown",
   "metadata": {},
   "source": [
    "## Correlation and Regression Problems"
   ]
  },
  {
   "cell_type": "markdown",
   "metadata": {},
   "source": [
    "#### Problem:1 - Pearson's coefficient"
   ]
  },
  {
   "cell_type": "code",
   "execution_count": 1,
   "metadata": {},
   "outputs": [
    {
     "name": "stdout",
     "output_type": "stream",
     "text": [
      "Karl Pearson’s coefficient:0.145\n"
     ]
    }
   ],
   "source": [
    "Physics_Scores = '15  12  8   8   7   7   7   6   5   3'\n",
    "History_Scores = '10  25  17  11  13  17  20  13  9   15'\n",
    "\n",
    "phy = list(map(int,Physics_Scores.split())) #making a list og physics scores\n",
    "hist = list(map(int,History_Scores.split())) #making a list of histiry scores \n",
    "\n",
    "from scipy.stats.stats import pearsonr\n",
    "print(\"Karl Pearson’s coefficient:{}\".format(round(pearsonr(phy, hist)[0],3)))"
   ]
  },
  {
   "cell_type": "markdown",
   "metadata": {},
   "source": [
    "#### Problem:2 - slope of regression line"
   ]
  },
  {
   "cell_type": "code",
   "execution_count": 2,
   "metadata": {},
   "outputs": [
    {
     "name": "stdout",
     "output_type": "stream",
     "text": [
      "slope of regression line:0.208\n"
     ]
    }
   ],
   "source": [
    "from scipy import stats\n",
    "s = stats.linregress(phy,hist) #physics as X and history as Y\n",
    "print(\"slope of regression line:{}\".format(round(s[0],3)))"
   ]
  },
  {
   "cell_type": "markdown",
   "metadata": {},
   "source": [
    "##### Problem:3 - probable score in History"
   ]
  },
  {
   "cell_type": "code",
   "execution_count": 19,
   "metadata": {},
   "outputs": [
    {
     "name": "stdout",
     "output_type": "stream",
     "text": [
      "the probable history score :15.458\n"
     ]
    }
   ],
   "source": [
    "#from problem 2 we can the regression line\n",
    "#given physics score\n",
    "p = 10\n",
    "#let the probable history score be h\n",
    "#equation of line\n",
    "#h = s[0]*p+s[1]\n",
    "\n",
    "#we know p is 10\n",
    "h =  s[0]*10+s[1]\n",
    "\n",
    "print(\"the probable history score :{}\".format(round(h,3)))"
   ]
  },
  {
   "cell_type": "markdown",
   "metadata": {},
   "source": [
    "##### problem:4- Estimate the value of  x  when  y = 7"
   ]
  },
  {
   "cell_type": "code",
   "execution_count": 20,
   "metadata": {},
   "outputs": [
    {
     "name": "stdout",
     "output_type": "stream",
     "text": [
      "the value of x:8.5\n"
     ]
    }
   ],
   "source": [
    "#20x – 9y– 107 = 0 (line of x on y)\n",
    "\n",
    "#from the above equation\n",
    "y = 7\n",
    "x = (107+9*y)/20\n",
    "\n",
    "print(\"the value of x:{}\".format(x))"
   ]
  },
  {
   "cell_type": "markdown",
   "metadata": {},
   "source": [
    "##### problem:5 - variance of y"
   ]
  },
  {
   "cell_type": "code",
   "execution_count": 11,
   "metadata": {},
   "outputs": [
    {
     "name": "stdout",
     "output_type": "stream",
     "text": [
      "the variance of y:4.0\n"
     ]
    }
   ],
   "source": [
    "#given variance of x is 3\n",
    "var_x = (3)\n",
    "\n",
    "##20x – 9y– 107 = 0 (line of x on y)\n",
    "##4x-5y+33 = 0 (line of y on x)\n",
    "\n",
    "#slope of line of x on y\n",
    "s1 = 9/20\n",
    "#slope of line of y on x\n",
    "s2 = 4/5\n",
    "\n",
    "#computing the correlation coefficient\n",
    "cor =(s1*s2)**0.5\n",
    "\n",
    "\n",
    "#slope = corrletion(variance of y/variance of x)\n",
    "#varianceof y = (slope/correlation)*varianceof x\n",
    "var_y = (s2/cor)*var_x\n",
    "\n",
    "print(\"the variance of y:{}\".format(round(var_y,1)))"
   ]
  },
  {
   "cell_type": "code",
   "execution_count": null,
   "metadata": {},
   "outputs": [],
   "source": []
  }
 ],
 "metadata": {
  "kernelspec": {
   "display_name": "Python 3",
   "language": "python",
   "name": "python3"
  },
  "language_info": {
   "codemirror_mode": {
    "name": "ipython",
    "version": 3
   },
   "file_extension": ".py",
   "mimetype": "text/x-python",
   "name": "python",
   "nbconvert_exporter": "python",
   "pygments_lexer": "ipython3",
   "version": "3.6.5"
  }
 },
 "nbformat": 4,
 "nbformat_minor": 2
}
